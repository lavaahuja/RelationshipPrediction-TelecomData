{
 "cells": [
  {
   "cell_type": "code",
   "execution_count": null,
   "outputs": [],
   "source": [
    "import pandas as pd\n",
    "from sqlalchemy import create_engine\n",
    "import pyodbc\n",
    "\n",
    "db_url = 'mssql+pyodbc://LAVANYA-PC/telecomDB?trusted_connection=yes&driver=ODBC+Driver+17+for+SQL+Server'\n",
    "engine = create_engine(db_url)\n",
    "\n",
    "query = 'SELECT * FROM telecomDB.dbo.[CommEvents(2-28-20)]'\n",
    "df = pd.read_sql(query, engine)"
   ],
   "metadata": {
    "collapsed": false,
    "is_executing": true
   }
  },
  {
   "cell_type": "code",
   "execution_count": 8,
   "outputs": [
    {
     "data": {
      "text/plain": "        epochtime        date      time dayofweek insession studyweek  \\\n0   1420088400000  2015-01-01  00:00:00  Thursday        No       -33   \n1   1420088401000  2015-01-01  00:00:01  Thursday        No       -33   \n2   1420088403000  2015-01-01  00:00:03  Thursday        No       -33   \n3   1420088405000  2015-01-01  00:00:05  Thursday        No       -33   \n4   1420088406000  2015-01-01  00:00:06  Thursday        No       -33   \n..            ...         ...       ...       ...       ...       ...   \n95  1420088541000  2015-01-01  00:02:21  Thursday        No       -33   \n96  1420088542000  2015-01-01  00:02:22  Thursday        No       -33   \n97  1420088544000  2015-01-01  00:02:24  Thursday        No       -33   \n98  1420088544000  2015-01-01  00:02:24  Thursday        No       -33   \n99  1420088546000  2015-01-01  00:02:26  Thursday        No       -33   \n\n   studyday  egoid    egoconf  alterid  alterconf outgoing iphone eventtype  \\\n0      -227  27169  .94999999  2250922  .60000002       No      1       SMS   \n1      -227  96184  .94999999   738850  .69999999       No      1  WhatsApp   \n2      -227  96184  .94999999   738850  .69999999       No      1  WhatsApp   \n3      -227  19538  .94999999   270980         .5       No      1       SMS   \n4      -227  96184  .94999999   738850  .69999999       No      1  WhatsApp   \n..      ...    ...        ...      ...        ...      ...    ...       ...   \n95     -227  54098  .94999999  2300721  .60000002      Yes      1       SMS   \n96     -227  98624  .94999999   203796  .69999999       No      1       SMS   \n97     -227  96543  .94999999   347378  .69999999      Yes      1       SMS   \n98     -227  69124  .94999999   208943  .69999999      Yes      1       SMS   \n99     -227  57325  .94999999  2308865  .60000002       No      1       SMS   \n\n   eventtypedetail messagetype duration length bytes  \n0               iM                          13        \n1               DM           T               1        \n2               DM           T               1        \n3               iM                          12        \n4               DM           T               2        \n..             ...         ...      ...    ...   ...  \n95              iM                          35        \n96              SM                          36        \n97              iM                          53        \n98              iM                          15        \n99              iM                           5        \n\n[100 rows x 19 columns]",
      "text/html": "<div>\n<style scoped>\n    .dataframe tbody tr th:only-of-type {\n        vertical-align: middle;\n    }\n\n    .dataframe tbody tr th {\n        vertical-align: top;\n    }\n\n    .dataframe thead th {\n        text-align: right;\n    }\n</style>\n<table border=\"1\" class=\"dataframe\">\n  <thead>\n    <tr style=\"text-align: right;\">\n      <th></th>\n      <th>epochtime</th>\n      <th>date</th>\n      <th>time</th>\n      <th>dayofweek</th>\n      <th>insession</th>\n      <th>studyweek</th>\n      <th>studyday</th>\n      <th>egoid</th>\n      <th>egoconf</th>\n      <th>alterid</th>\n      <th>alterconf</th>\n      <th>outgoing</th>\n      <th>iphone</th>\n      <th>eventtype</th>\n      <th>eventtypedetail</th>\n      <th>messagetype</th>\n      <th>duration</th>\n      <th>length</th>\n      <th>bytes</th>\n    </tr>\n  </thead>\n  <tbody>\n    <tr>\n      <th>0</th>\n      <td>1420088400000</td>\n      <td>2015-01-01</td>\n      <td>00:00:00</td>\n      <td>Thursday</td>\n      <td>No</td>\n      <td>-33</td>\n      <td>-227</td>\n      <td>27169</td>\n      <td>.94999999</td>\n      <td>2250922</td>\n      <td>.60000002</td>\n      <td>No</td>\n      <td>1</td>\n      <td>SMS</td>\n      <td>iM</td>\n      <td></td>\n      <td></td>\n      <td>13</td>\n      <td></td>\n    </tr>\n    <tr>\n      <th>1</th>\n      <td>1420088401000</td>\n      <td>2015-01-01</td>\n      <td>00:00:01</td>\n      <td>Thursday</td>\n      <td>No</td>\n      <td>-33</td>\n      <td>-227</td>\n      <td>96184</td>\n      <td>.94999999</td>\n      <td>738850</td>\n      <td>.69999999</td>\n      <td>No</td>\n      <td>1</td>\n      <td>WhatsApp</td>\n      <td>DM</td>\n      <td>T</td>\n      <td></td>\n      <td>1</td>\n      <td></td>\n    </tr>\n    <tr>\n      <th>2</th>\n      <td>1420088403000</td>\n      <td>2015-01-01</td>\n      <td>00:00:03</td>\n      <td>Thursday</td>\n      <td>No</td>\n      <td>-33</td>\n      <td>-227</td>\n      <td>96184</td>\n      <td>.94999999</td>\n      <td>738850</td>\n      <td>.69999999</td>\n      <td>No</td>\n      <td>1</td>\n      <td>WhatsApp</td>\n      <td>DM</td>\n      <td>T</td>\n      <td></td>\n      <td>1</td>\n      <td></td>\n    </tr>\n    <tr>\n      <th>3</th>\n      <td>1420088405000</td>\n      <td>2015-01-01</td>\n      <td>00:00:05</td>\n      <td>Thursday</td>\n      <td>No</td>\n      <td>-33</td>\n      <td>-227</td>\n      <td>19538</td>\n      <td>.94999999</td>\n      <td>270980</td>\n      <td>.5</td>\n      <td>No</td>\n      <td>1</td>\n      <td>SMS</td>\n      <td>iM</td>\n      <td></td>\n      <td></td>\n      <td>12</td>\n      <td></td>\n    </tr>\n    <tr>\n      <th>4</th>\n      <td>1420088406000</td>\n      <td>2015-01-01</td>\n      <td>00:00:06</td>\n      <td>Thursday</td>\n      <td>No</td>\n      <td>-33</td>\n      <td>-227</td>\n      <td>96184</td>\n      <td>.94999999</td>\n      <td>738850</td>\n      <td>.69999999</td>\n      <td>No</td>\n      <td>1</td>\n      <td>WhatsApp</td>\n      <td>DM</td>\n      <td>T</td>\n      <td></td>\n      <td>2</td>\n      <td></td>\n    </tr>\n    <tr>\n      <th>...</th>\n      <td>...</td>\n      <td>...</td>\n      <td>...</td>\n      <td>...</td>\n      <td>...</td>\n      <td>...</td>\n      <td>...</td>\n      <td>...</td>\n      <td>...</td>\n      <td>...</td>\n      <td>...</td>\n      <td>...</td>\n      <td>...</td>\n      <td>...</td>\n      <td>...</td>\n      <td>...</td>\n      <td>...</td>\n      <td>...</td>\n      <td>...</td>\n    </tr>\n    <tr>\n      <th>95</th>\n      <td>1420088541000</td>\n      <td>2015-01-01</td>\n      <td>00:02:21</td>\n      <td>Thursday</td>\n      <td>No</td>\n      <td>-33</td>\n      <td>-227</td>\n      <td>54098</td>\n      <td>.94999999</td>\n      <td>2300721</td>\n      <td>.60000002</td>\n      <td>Yes</td>\n      <td>1</td>\n      <td>SMS</td>\n      <td>iM</td>\n      <td></td>\n      <td></td>\n      <td>35</td>\n      <td></td>\n    </tr>\n    <tr>\n      <th>96</th>\n      <td>1420088542000</td>\n      <td>2015-01-01</td>\n      <td>00:02:22</td>\n      <td>Thursday</td>\n      <td>No</td>\n      <td>-33</td>\n      <td>-227</td>\n      <td>98624</td>\n      <td>.94999999</td>\n      <td>203796</td>\n      <td>.69999999</td>\n      <td>No</td>\n      <td>1</td>\n      <td>SMS</td>\n      <td>SM</td>\n      <td></td>\n      <td></td>\n      <td>36</td>\n      <td></td>\n    </tr>\n    <tr>\n      <th>97</th>\n      <td>1420088544000</td>\n      <td>2015-01-01</td>\n      <td>00:02:24</td>\n      <td>Thursday</td>\n      <td>No</td>\n      <td>-33</td>\n      <td>-227</td>\n      <td>96543</td>\n      <td>.94999999</td>\n      <td>347378</td>\n      <td>.69999999</td>\n      <td>Yes</td>\n      <td>1</td>\n      <td>SMS</td>\n      <td>iM</td>\n      <td></td>\n      <td></td>\n      <td>53</td>\n      <td></td>\n    </tr>\n    <tr>\n      <th>98</th>\n      <td>1420088544000</td>\n      <td>2015-01-01</td>\n      <td>00:02:24</td>\n      <td>Thursday</td>\n      <td>No</td>\n      <td>-33</td>\n      <td>-227</td>\n      <td>69124</td>\n      <td>.94999999</td>\n      <td>208943</td>\n      <td>.69999999</td>\n      <td>Yes</td>\n      <td>1</td>\n      <td>SMS</td>\n      <td>iM</td>\n      <td></td>\n      <td></td>\n      <td>15</td>\n      <td></td>\n    </tr>\n    <tr>\n      <th>99</th>\n      <td>1420088546000</td>\n      <td>2015-01-01</td>\n      <td>00:02:26</td>\n      <td>Thursday</td>\n      <td>No</td>\n      <td>-33</td>\n      <td>-227</td>\n      <td>57325</td>\n      <td>.94999999</td>\n      <td>2308865</td>\n      <td>.60000002</td>\n      <td>No</td>\n      <td>1</td>\n      <td>SMS</td>\n      <td>iM</td>\n      <td></td>\n      <td></td>\n      <td>5</td>\n      <td></td>\n    </tr>\n  </tbody>\n</table>\n<p>100 rows × 19 columns</p>\n</div>"
     },
     "execution_count": 8,
     "metadata": {},
     "output_type": "execute_result"
    }
   ],
   "source": [
    "df"
   ],
   "metadata": {
    "collapsed": false,
    "ExecuteTime": {
     "end_time": "2023-11-16T18:00:02.858324300Z",
     "start_time": "2023-11-16T18:00:02.761198500Z"
    }
   }
  },
  {
   "cell_type": "code",
   "execution_count": 12,
   "outputs": [
    {
     "name": "stderr",
     "output_type": "stream",
     "text": [
      "c:\\users\\ahuja\\appdata\\local\\programs\\python\\python37\\lib\\site-packages\\ipykernel_launcher.py:10: UserWarning: Ignoring `palette` because no `hue` variable has been assigned.\n",
      "  # Remove the CWD from sys.path while we load stuff.\n"
     ]
    },
    {
     "data": {
      "text/plain": "<Figure size 1000x600 with 1 Axes>",
      "image/png": "[encoded data removed]"
     },
     "metadata": {},
     "output_type": "display_data"
    }
   ],
   "source": [
    "import seaborn as sns\n",
    "import matplotlib.pyplot as plt\n",
    "import pandas as pd\n",
    "\n",
    "df = pd.read_csv('CommunicationEventsForEachEgoID.csv')\n",
    "\n",
    "# Create a density plot\n",
    "sns.set(style=\"whitegrid\")\n",
    "plt.figure(figsize=(10, 6))\n",
    "sns.kdeplot(data=df, x='communication_events', fill=True, common_norm=True, palette=\"crest\")\n",
    "\n",
    "# Set plot labels and title\n",
    "plt.xlabel(\"Communication Events\")\n",
    "plt.ylabel(\"Density\")\n",
    "plt.title(\"Density Plot for Communication Events\")\n",
    "\n",
    "# Show the plot\n",
    "plt.show()\n"
   ],
   "metadata": {
    "collapsed": false,
    "ExecuteTime": {
     "end_time": "2024-02-03T19:47:31.723329400Z",
     "start_time": "2024-02-03T19:47:31.374145Z"
    }
   }
  },
  {
   "cell_type": "code",
   "execution_count": 16,
   "outputs": [
    {
     "data": {
      "text/plain": "<Figure size 1000x600 with 1 Axes>",
      "image/png": "[encoded data removed]"
     },
     "metadata": {},
     "output_type": "display_data"
    }
   ],
   "source": [
    "df_calls = pd.read_csv('EgoIDCallRecordsSortedwithHour.csv')\n",
    "df_total_calls = df_calls.groupby('hour_of_day')['call_count'].sum().reset_index()\n",
    "\n",
    "# Create a bar plot\n",
    "sns.set(style=\"whitegrid\")\n",
    "plt.figure(figsize=(10, 6))\n",
    "sns.barplot(x='hour_of_day', y='call_count', data=df_total_calls, palette=\"crest\")\n",
    "\n",
    "\n",
    "# Set plot labels and title\n",
    "plt.xlabel(\"Hour of Day\")\n",
    "plt.ylabel(\"Total Call Count\")\n",
    "plt.title(\"Total Events by Hour of the Day\")\n",
    "\n",
    "# Show the plot\n",
    "plt.show()"
   ],
   "metadata": {
    "collapsed": false,
    "ExecuteTime": {
     "end_time": "2024-02-03T19:51:20.324910100Z",
     "start_time": "2024-02-03T19:51:20.132684Z"
    }
   }
  },
  {
   "cell_type": "code",
   "execution_count": null,
   "outputs": [],
   "source": [
    "import pandas as pd\n",
    "\n",
    "df = pd.read_sql('SELECT egoid, alterid, timestamp, length, duration, bytes, outgoing FROM [CommEvents(2-28-20)]', engine)\n",
    "df = pd.read_csv('SELECTIVEColumnsCommunicationEvents.csv')\n",
    "df.columns"
   ],
   "metadata": {
    "collapsed": false
   }
  },
  {
   "cell_type": "code",
   "execution_count": 15,
   "outputs": [
    {
     "data": {
      "text/plain": "array([60493, 43794, 67993, 59097, 93471, 67574, 78783, 17522, 69057,\n       27141, 28653, 65072, 96543, 21971, 97448, 76485, 92552, 60396,\n       70492, 98766, 49086, 57359, 82269, 96689, 14690, 64232, 92716,\n       48154, 47024, 66061, 45641, 28327, 51851, 47810, 33009, 10237,\n       17308, 38293, 24833, 49800, 40021, 95559, 22989, 38824, 35011,\n       98462, 46365, 37404, 43710, 31175, 97021, 19538, 52848, 43809,\n       71836, 72806, 68404, 75438, 24883, 91429, 36574, 34062, 72912,\n       62617, 25125, 44344, 58682, 55569, 69831, 92515, 87330, 93485,\n       57443, 89710, 67709, 77711, 45963, 15181, 50766, 26857, 92038,\n       54098, 43177, 89142, 46373, 77941, 96613, 39285, 76790, 38052,\n       23253, 22913, 78657, 12156, 22408, 38826, 82248, 73962, 77872,\n       22897, 64157, 94862, 31439, 85503, 25197, 95490, 68679, 64302,\n       22455, 72885, 33239, 18111, 36117, 53776, 23696, 82587, 35031,\n       48676, 36963, 62246, 77838, 36875, 63419, 13486, 52123, 33657,\n       96828, 16654, 18677, 46418, 51495, 59673, 31121, 29718, 83536,\n       74492, 45375, 17183, 80429, 52302, 70125, 26858, 97596, 38610,\n       66156, 23270, 14301, 89165, 57325, 39129, 95026, 48224, 91313,\n       29232, 33740, 98206, 67015, 33785, 98700, 61028, 70661, 10153,\n       49915, 42646, 58196, 93002, 21348, 59900, 36501, 28724, 92028,\n       56805, 19122, 25548, 38683, 70962, 83566, 84390, 73897, 77134,\n       37305, 20179, 81420, 56527, 68318, 63904, 79834, 98325, 58437,\n       21380, 14279, 21909, 27169, 31717, 28820, 29134, 82819, 74632,\n       66800, 59178, 21090, 77036, 80675, 77789, 22138, 26718, 66047,\n       10469, 43382, 83748, 66655, 32249, 55424, 83005, 59592, 35361,\n       37148, 48013, 22842, 24079, 44872, 21899, 36552, 92340, 26800,\n       34525, 89607, 45097, 28312, 66815, 91551, 79167, 64296, 11910,\n       18611, 12738, 25966, 94215, 19735, 69217, 20650, 97844, 22119,\n       94455, 94579, 30137, 29296, 37001, 96610, 24898, 47006, 57842,\n       67192, 25495, 84011, 60367, 97050, 56798, 54435, 10732, 73158,\n       36385, 65656, 99733, 51952, 34467, 42674, 60216, 29647, 23287,\n       99978, 63138, 66682, 31294, 90692, 41952, 82986, 15586, 71985,\n       66642, 82490, 93858, 38815, 76521, 43581, 60997, 57697, 90079,\n       30152, 59355, 44927, 70005, 69936, 35987, 83612, 44869, 36540,\n       42132, 69124, 71089, 67544, 90646, 26320, 35872, 22066, 93462,\n       96469, 75149, 19245, 91176, 89972, 58633, 16819, 84502, 66676,\n       29885, 96184, 51437, 25172, 35344, 74899, 97280, 70434, 50976,\n       90905, 29115, 42617, 82728, 11002, 24016, 73452, 39738, 92339,\n       70566, 39659, 58793, 51475, 49014, 88882, 87032, 89161, 50072,\n       97833, 23518, 47498, 82918, 86083, 19591, 85453, 32668, 79395,\n       95374, 14847, 11402, 35180, 83470, 51723, 56543, 82376, 28254,\n       54030, 50666, 51760, 67334, 51298, 87192, 92953, 45076, 79731,\n       79607, 32037, 95585, 79352, 26581, 33133, 49790, 92566, 47584,\n       43603, 22143, 77532, 43114, 43516, 42531, 27306, 46558, 35416,\n       67771, 87328, 11454, 81807, 35855, 74211, 28223, 94456, 30453,\n       29257, 93699, 67918, 38554, 32404, 57144, 15031, 91726, 54956,\n       17569, 48969, 88008, 93856, 63347, 20335, 74845, 11148, 34591,\n       31538, 56058, 20507, 89652, 27407, 23487, 33445, 71894, 44310,\n       31033, 66629, 44873, 17020, 59207, 65061, 74285, 92412, 17932,\n       71592, 30814, 15134, 67608, 80980, 79341, 71193, 61084, 79897,\n       93504, 60230, 95930, 80484, 37218, 82964, 56480, 45958, 46151,\n       70552, 35797, 22540, 22093, 14606, 47142, 78667, 47280, 43125,\n       21793, 40231, 46266, 84768, 88185, 58654, 93766, 29354, 64572,\n       72348, 44675, 42137, 19827, 87664, 86440, 41167, 26289, 70745,\n       80177, 53518, 57854, 67106, 49497, 35347, 84715, 23576, 21932,\n       94641, 18743, 77187, 73577, 10547, 83542, 36939, 61772, 44070,\n       88337, 11128, 54837, 59863, 33953, 42513, 86691, 40569, 64075,\n       69807, 87783, 55533, 35824, 17470, 63122, 18707, 25536, 25369,\n       48946, 42773, 93787, 22688, 91932, 69419, 64058, 95543, 36038,\n       18222, 90750, 61389, 14571, 39414, 32976, 28824, 81647, 39787,\n       98624, 39146, 14250, 67177, 55881, 33341, 38914, 22460, 19030,\n       38313, 88967, 74413, 31985, 23115, 93246, 49010, 30972, 49539,\n       14511, 60963, 36384, 88582, 98117, 26272, 21887, 22587, 60903,\n       14737, 97990, 24029, 78407, 68050, 39564, 76663, 35925, 90502,\n       29792, 73143, 72570, 73918, 40864, 61659, 28247, 76785, 76810,\n       47886, 92895, 60008, 32919, 12029, 64090, 86265, 33388, 75578,\n       75341, 98760], dtype=int64)"
     },
     "execution_count": 15,
     "metadata": {},
     "output_type": "execute_result"
    }
   ],
   "source": [
    "df['egoid'].unique()"
   ],
   "metadata": {
    "collapsed": false
   }
  },
  {
   "cell_type": "code",
   "execution_count": 5,
   "outputs": [
    {
     "data": {
      "text/plain": "          egoid  alterid                timestamp  length eventtype  duration  \\\n8775172   10237    34467  2015-08-18 18:31:31.000    13.0       SMS       NaN   \n8965643   10237    34467  2015-08-21 13:19:36.000    50.0       SMS       NaN   \n11186728  10237    34467  2015-09-19 11:53:53.000    80.0       SMS       NaN   \n11191511  10237    34467  2015-09-19 12:47:52.000   138.0       SMS       NaN   \n11219353  10237    34467  2015-09-19 20:40:07.000    22.0       SMS       NaN   \n...         ...      ...                      ...     ...       ...       ...   \n55125773  10237    34467  2018-08-23 19:15:52.000    49.0       SMS       NaN   \n55125807  10237    34467  2018-08-23 19:23:04.000    12.0       SMS       NaN   \n55125808  10237    34467  2018-08-23 19:23:07.000    13.0       SMS       NaN   \n55125809  10237    34467  2018-08-23 19:23:10.000    13.0       SMS       NaN   \n55126273  10237    34467  2018-08-23 20:06:09.000    38.0       SMS       NaN   \n\n          bytes outgoing  \n8775172     NaN       No  \n8965643     NaN       No  \n11186728    NaN       No  \n11191511    NaN       No  \n11219353    NaN       No  \n...         ...      ...  \n55125773    NaN       No  \n55125807    NaN       No  \n55125808    NaN       No  \n55125809    NaN       No  \n55126273    NaN       No  \n\n[389 rows x 8 columns]",
      "text/html": "<div>\n<style scoped>\n    .dataframe tbody tr th:only-of-type {\n        vertical-align: middle;\n    }\n\n    .dataframe tbody tr th {\n        vertical-align: top;\n    }\n\n    .dataframe thead th {\n        text-align: right;\n    }\n</style>\n<table border=\"1\" class=\"dataframe\">\n  <thead>\n    <tr style=\"text-align: right;\">\n      <th></th>\n      <th>egoid</th>\n      <th>alterid</th>\n      <th>timestamp</th>\n      <th>length</th>\n      <th>eventtype</th>\n      <th>duration</th>\n      <th>bytes</th>\n      <th>outgoing</th>\n    </tr>\n  </thead>\n  <tbody>\n    <tr>\n      <th>8775172</th>\n      <td>10237</td>\n      <td>34467</td>\n      <td>2015-08-18 18:31:31.000</td>\n      <td>13.0</td>\n      <td>SMS</td>\n      <td>NaN</td>\n      <td>NaN</td>\n      <td>No</td>\n    </tr>\n    <tr>\n      <th>8965643</th>\n      <td>10237</td>\n      <td>34467</td>\n      <td>2015-08-21 13:19:36.000</td>\n      <td>50.0</td>\n      <td>SMS</td>\n      <td>NaN</td>\n      <td>NaN</td>\n      <td>No</td>\n    </tr>\n    <tr>\n      <th>11186728</th>\n      <td>10237</td>\n      <td>34467</td>\n      <td>2015-09-19 11:53:53.000</td>\n      <td>80.0</td>\n      <td>SMS</td>\n      <td>NaN</td>\n      <td>NaN</td>\n      <td>No</td>\n    </tr>\n    <tr>\n      <th>11191511</th>\n      <td>10237</td>\n      <td>34467</td>\n      <td>2015-09-19 12:47:52.000</td>\n      <td>138.0</td>\n      <td>SMS</td>\n      <td>NaN</td>\n      <td>NaN</td>\n      <td>No</td>\n    </tr>\n    <tr>\n      <th>11219353</th>\n      <td>10237</td>\n      <td>34467</td>\n      <td>2015-09-19 20:40:07.000</td>\n      <td>22.0</td>\n      <td>SMS</td>\n      <td>NaN</td>\n      <td>NaN</td>\n      <td>No</td>\n    </tr>\n    <tr>\n      <th>...</th>\n      <td>...</td>\n      <td>...</td>\n      <td>...</td>\n      <td>...</td>\n      <td>...</td>\n      <td>...</td>\n      <td>...</td>\n      <td>...</td>\n    </tr>\n    <tr>\n      <th>55125773</th>\n      <td>10237</td>\n      <td>34467</td>\n      <td>2018-08-23 19:15:52.000</td>\n      <td>49.0</td>\n      <td>SMS</td>\n      <td>NaN</td>\n      <td>NaN</td>\n      <td>No</td>\n    </tr>\n    <tr>\n      <th>55125807</th>\n      <td>10237</td>\n      <td>34467</td>\n      <td>2018-08-23 19:23:04.000</td>\n      <td>12.0</td>\n      <td>SMS</td>\n      <td>NaN</td>\n      <td>NaN</td>\n      <td>No</td>\n    </tr>\n    <tr>\n      <th>55125808</th>\n      <td>10237</td>\n      <td>34467</td>\n      <td>2018-08-23 19:23:07.000</td>\n      <td>13.0</td>\n      <td>SMS</td>\n      <td>NaN</td>\n      <td>NaN</td>\n      <td>No</td>\n    </tr>\n    <tr>\n      <th>55125809</th>\n      <td>10237</td>\n      <td>34467</td>\n      <td>2018-08-23 19:23:10.000</td>\n      <td>13.0</td>\n      <td>SMS</td>\n      <td>NaN</td>\n      <td>NaN</td>\n      <td>No</td>\n    </tr>\n    <tr>\n      <th>55126273</th>\n      <td>10237</td>\n      <td>34467</td>\n      <td>2018-08-23 20:06:09.000</td>\n      <td>38.0</td>\n      <td>SMS</td>\n      <td>NaN</td>\n      <td>NaN</td>\n      <td>No</td>\n    </tr>\n  </tbody>\n</table>\n<p>389 rows × 8 columns</p>\n</div>"
     },
     "execution_count": 5,
     "metadata": {},
     "output_type": "execute_result"
    }
   ],
   "source": [
    "data = df[(df['timestamp'] == '2019-04-01 11:34:41.000')]\n",
    "data = df[(df['egoid'] == 10237) & (df['alterid'] == 34467)]\n",
    "data"
   ],
   "metadata": {
    "collapsed": false,
    "ExecuteTime": {
     "end_time": "2023-11-20T14:04:29.746228600Z",
     "start_time": "2023-11-20T14:04:27.939598600Z"
    }
   }
  },
  {
   "cell_type": "code",
   "execution_count": 17,
   "outputs": [
    {
     "data": {
      "text/plain": "          egoid  alterid                timestamp  length eventtype  duration  \\\n132       10237  2107540  2015-01-01 00:02:56.000    19.0       SMS       NaN   \n334       10237   970860  2015-01-01 00:06:59.000    16.0       SMS       NaN   \n424       10237   970860  2015-01-01 00:09:07.000    20.0       SMS       NaN   \n428       10237  2107540  2015-01-01 00:09:18.000    14.0       SMS       NaN   \n459       10237  2973482  2015-01-01 00:09:29.000    19.0       SMS       NaN   \n...         ...      ...                      ...     ...       ...       ...   \n57380150  34467    10237  2019-04-01 11:34:41.000    48.0       SMS       NaN   \n57380156  34467    10237  2019-04-01 11:34:51.000    29.0       SMS       NaN   \n57380164  34467    10237  2019-04-01 11:35:06.000    85.0       SMS       NaN   \n57383727  34467    10237  2019-04-01 16:20:47.000    49.0       SMS       NaN   \n57393219  34467    10237  2019-04-02 11:01:16.000    82.0       SMS       NaN   \n\n          bytes outgoing  \n132         NaN       No  \n334         NaN       No  \n424         NaN      Yes  \n428         NaN      Yes  \n459         NaN      Yes  \n...         ...      ...  \n57380150    NaN       No  \n57380156    NaN       No  \n57380164    NaN       No  \n57383727    NaN       No  \n57393219    NaN       No  \n\n[279970 rows x 8 columns]",
      "text/html": "<div>\n<style scoped>\n    .dataframe tbody tr th:only-of-type {\n        vertical-align: middle;\n    }\n\n    .dataframe tbody tr th {\n        vertical-align: top;\n    }\n\n    .dataframe thead th {\n        text-align: right;\n    }\n</style>\n<table border=\"1\" class=\"dataframe\">\n  <thead>\n    <tr style=\"text-align: right;\">\n      <th></th>\n      <th>egoid</th>\n      <th>alterid</th>\n      <th>timestamp</th>\n      <th>length</th>\n      <th>eventtype</th>\n      <th>duration</th>\n      <th>bytes</th>\n      <th>outgoing</th>\n    </tr>\n  </thead>\n  <tbody>\n    <tr>\n      <th>132</th>\n      <td>10237</td>\n      <td>2107540</td>\n      <td>2015-01-01 00:02:56.000</td>\n      <td>19.0</td>\n      <td>SMS</td>\n      <td>NaN</td>\n      <td>NaN</td>\n      <td>No</td>\n    </tr>\n    <tr>\n      <th>334</th>\n      <td>10237</td>\n      <td>970860</td>\n      <td>2015-01-01 00:06:59.000</td>\n      <td>16.0</td>\n      <td>SMS</td>\n      <td>NaN</td>\n      <td>NaN</td>\n      <td>No</td>\n    </tr>\n    <tr>\n      <th>424</th>\n      <td>10237</td>\n      <td>970860</td>\n      <td>2015-01-01 00:09:07.000</td>\n      <td>20.0</td>\n      <td>SMS</td>\n      <td>NaN</td>\n      <td>NaN</td>\n      <td>Yes</td>\n    </tr>\n    <tr>\n      <th>428</th>\n      <td>10237</td>\n      <td>2107540</td>\n      <td>2015-01-01 00:09:18.000</td>\n      <td>14.0</td>\n      <td>SMS</td>\n      <td>NaN</td>\n      <td>NaN</td>\n      <td>Yes</td>\n    </tr>\n    <tr>\n      <th>459</th>\n      <td>10237</td>\n      <td>2973482</td>\n      <td>2015-01-01 00:09:29.000</td>\n      <td>19.0</td>\n      <td>SMS</td>\n      <td>NaN</td>\n      <td>NaN</td>\n      <td>Yes</td>\n    </tr>\n    <tr>\n      <th>...</th>\n      <td>...</td>\n      <td>...</td>\n      <td>...</td>\n      <td>...</td>\n      <td>...</td>\n      <td>...</td>\n      <td>...</td>\n      <td>...</td>\n    </tr>\n    <tr>\n      <th>57380150</th>\n      <td>34467</td>\n      <td>10237</td>\n      <td>2019-04-01 11:34:41.000</td>\n      <td>48.0</td>\n      <td>SMS</td>\n      <td>NaN</td>\n      <td>NaN</td>\n      <td>No</td>\n    </tr>\n    <tr>\n      <th>57380156</th>\n      <td>34467</td>\n      <td>10237</td>\n      <td>2019-04-01 11:34:51.000</td>\n      <td>29.0</td>\n      <td>SMS</td>\n      <td>NaN</td>\n      <td>NaN</td>\n      <td>No</td>\n    </tr>\n    <tr>\n      <th>57380164</th>\n      <td>34467</td>\n      <td>10237</td>\n      <td>2019-04-01 11:35:06.000</td>\n      <td>85.0</td>\n      <td>SMS</td>\n      <td>NaN</td>\n      <td>NaN</td>\n      <td>No</td>\n    </tr>\n    <tr>\n      <th>57383727</th>\n      <td>34467</td>\n      <td>10237</td>\n      <td>2019-04-01 16:20:47.000</td>\n      <td>49.0</td>\n      <td>SMS</td>\n      <td>NaN</td>\n      <td>NaN</td>\n      <td>No</td>\n    </tr>\n    <tr>\n      <th>57393219</th>\n      <td>34467</td>\n      <td>10237</td>\n      <td>2019-04-02 11:01:16.000</td>\n      <td>82.0</td>\n      <td>SMS</td>\n      <td>NaN</td>\n      <td>NaN</td>\n      <td>No</td>\n    </tr>\n  </tbody>\n</table>\n<p>279970 rows × 8 columns</p>\n</div>"
     },
     "execution_count": 17,
     "metadata": {},
     "output_type": "execute_result"
    }
   ],
   "source": [
    "# sample data for one pair of egoid-alterid\n",
    "iltered_data = df[(df['egoid'] == 10237) & (df['alterid'] == 10237)]\n",
    "iltered_data"
   ],
   "metadata": {
    "collapsed": false,
    "ExecuteTime": {
     "end_time": "2023-11-19T21:09:15.297608700Z",
     "start_time": "2023-11-19T21:09:12.216623100Z"
    }
   }
  },
  {
   "cell_type": "code",
   "execution_count": 5,
   "outputs": [
    {
     "name": "stdout",
     "output_type": "stream",
     "text": [
      "Processed telcodata_32668.csv and 1 egoid(s).\n",
      "Processed telcodata_24883.csv and 2 egoid(s).\n",
      "Processed telcodata_55533.csv and 3 egoid(s).\n",
      "Processed telcodata_67177.csv and 4 egoid(s).\n",
      "Processed telcodata_88882.csv and 5 egoid(s).\n",
      "Processed telcodata_66800.csv and 6 egoid(s).\n",
      "Processed telcodata_32404.csv and 7 egoid(s).\n",
      "Processed telcodata_63122.csv and 8 egoid(s).\n",
      "Processed telcodata_49497.csv and 9 egoid(s).\n",
      "Processed telcodata_22093.csv and 10 egoid(s).\n",
      "Processed telcodata_38815.csv and 11 egoid(s).\n",
      "Processed telcodata_43114.csv and 12 egoid(s).\n",
      "Processed telcodata_96828.csv and 13 egoid(s).\n",
      "Processed telcodata_56058.csv and 14 egoid(s).\n",
      "Processed telcodata_31033.csv and 15 egoid(s).\n",
      "Processed telcodata_92340.csv and 16 egoid(s).\n",
      "Processed telcodata_11148.csv and 17 egoid(s).\n",
      "Processed telcodata_74632.csv and 18 egoid(s).\n",
      "Processed telcodata_92412.csv and 19 egoid(s).\n",
      "Processed telcodata_67608.csv and 20 egoid(s).\n",
      "Processed telcodata_78407.csv and 21 egoid(s).\n",
      "Processed telcodata_80484.csv and 22 egoid(s).\n",
      "Processed telcodata_90646.csv and 23 egoid(s).\n",
      "Processed telcodata_22143.csv and 24 egoid(s).\n",
      "Processed telcodata_36117.csv and 25 egoid(s).\n",
      "Processed telcodata_14301.csv and 26 egoid(s).\n",
      "Processed telcodata_52123.csv and 27 egoid(s).\n",
      "Processed telcodata_28247.csv and 28 egoid(s).\n",
      "Processed telcodata_86440.csv and 29 egoid(s).\n",
      "Processed telcodata_73158.csv and 30 egoid(s).\n",
      "Processed telcodata_74413.csv and 31 egoid(s).\n",
      "Processed telcodata_30814.csv and 32 egoid(s).\n",
      "Processed telcodata_66815.csv and 33 egoid(s).\n",
      "Processed telcodata_16819.csv and 34 egoid(s).\n",
      "Processed telcodata_64572.csv and 35 egoid(s).\n",
      "Processed telcodata_77872.csv and 36 egoid(s).\n",
      "Processed telcodata_17470.csv and 37 egoid(s).\n",
      "Processed telcodata_55881.csv and 38 egoid(s).\n",
      "Processed telcodata_24079.csv and 39 egoid(s).\n",
      "Processed telcodata_22913.csv and 40 egoid(s).\n",
      "Processed telcodata_93856.csv and 41 egoid(s).\n",
      "Processed telcodata_72885.csv and 42 egoid(s).\n",
      "Processed telcodata_22540.csv and 43 egoid(s).\n",
      "Processed telcodata_38052.csv and 44 egoid(s).\n",
      "Processed telcodata_62617.csv and 45 egoid(s).\n",
      "Processed telcodata_59900.csv and 46 egoid(s).\n",
      "Processed telcodata_73897.csv and 47 egoid(s).\n",
      "Processed telcodata_54435.csv and 48 egoid(s).\n",
      "Processed telcodata_64058.csv and 49 egoid(s).\n",
      "Processed telcodata_43710.csv and 50 egoid(s).\n",
      "Processed telcodata_36963.csv and 51 egoid(s).\n",
      "Processed telcodata_39146.csv and 52 egoid(s).\n",
      "Processed telcodata_14250.csv and 53 egoid(s).\n",
      "Processed telcodata_28724.csv and 54 egoid(s).\n",
      "Processed telcodata_65072.csv and 55 egoid(s).\n",
      "Processed telcodata_90079.csv and 56 egoid(s).\n",
      "Processed telcodata_77187.csv and 57 egoid(s).\n",
      "Processed telcodata_48154.csv and 58 egoid(s).\n",
      "Processed telcodata_75149.csv and 59 egoid(s).\n",
      "Processed telcodata_88967.csv and 60 egoid(s).\n",
      "Processed telcodata_29647.csv and 61 egoid(s).\n",
      "Processed telcodata_58682.csv and 62 egoid(s).\n",
      "Processed telcodata_25369.csv and 63 egoid(s).\n",
      "Processed telcodata_87328.csv and 64 egoid(s).\n",
      "Processed telcodata_56480.csv and 65 egoid(s).\n",
      "Processed telcodata_11402.csv and 66 egoid(s).\n",
      "Processed telcodata_59355.csv and 67 egoid(s).\n",
      "Processed telcodata_98766.csv and 68 egoid(s).\n",
      "Processed telcodata_57443.csv and 69 egoid(s).\n",
      "Processed telcodata_35011.csv and 70 egoid(s).\n",
      "Processed telcodata_82819.csv and 71 egoid(s).\n",
      "Processed telcodata_19735.csv and 72 egoid(s).\n",
      "Processed telcodata_24833.csv and 73 egoid(s).\n",
      "Processed telcodata_36385.csv and 74 egoid(s).\n",
      "Processed telcodata_63347.csv and 75 egoid(s).\n",
      "Processed telcodata_42513.csv and 76 egoid(s).\n",
      "Processed telcodata_39414.csv and 77 egoid(s).\n",
      "Processed telcodata_88185.csv and 78 egoid(s).\n",
      "Processed telcodata_93766.csv and 79 egoid(s).\n",
      "Processed telcodata_74899.csv and 80 egoid(s).\n",
      "Processed telcodata_18111.csv and 81 egoid(s).\n",
      "Processed telcodata_59863.csv and 82 egoid(s).\n",
      "Processed telcodata_44927.csv and 83 egoid(s).\n",
      "Processed telcodata_70566.csv and 84 egoid(s).\n",
      "Processed telcodata_25548.csv and 85 egoid(s).\n",
      "Processed telcodata_44873.csv and 86 egoid(s).\n",
      "Processed telcodata_48676.csv and 87 egoid(s).\n",
      "Processed telcodata_83470.csv and 88 egoid(s).\n",
      "Processed telcodata_79167.csv and 89 egoid(s).\n",
      "Processed telcodata_36875.csv and 90 egoid(s).\n",
      "Processed telcodata_79897.csv and 91 egoid(s).\n",
      "Processed telcodata_84390.csv and 92 egoid(s).\n",
      "Processed telcodata_47584.csv and 93 egoid(s).\n",
      "Processed telcodata_71894.csv and 94 egoid(s).\n",
      "Processed telcodata_70962.csv and 95 egoid(s).\n",
      "Processed telcodata_31538.csv and 96 egoid(s).\n",
      "Processed telcodata_79731.csv and 97 egoid(s).\n",
      "Processed telcodata_24898.csv and 98 egoid(s).\n",
      "Processed telcodata_87330.csv and 99 egoid(s).\n",
      "Processed telcodata_92895.csv and 100 egoid(s).\n",
      "Processed telcodata_40864.csv and 101 egoid(s).\n",
      "Processed telcodata_69217.csv and 102 egoid(s).\n",
      "Processed telcodata_23487.csv and 103 egoid(s).\n",
      "Processed telcodata_44344.csv and 104 egoid(s).\n",
      "Processed telcodata_13486.csv and 105 egoid(s).\n",
      "Processed telcodata_35925.csv and 106 egoid(s).\n",
      "Processed telcodata_37404.csv and 107 egoid(s).\n",
      "Processed telcodata_64090.csv and 108 egoid(s).\n",
      "Processed telcodata_46365.csv and 109 egoid(s).\n",
      "Processed telcodata_93858.csv and 110 egoid(s).\n",
      "Processed telcodata_53518.csv and 111 egoid(s).\n",
      "Processed telcodata_61084.csv and 112 egoid(s).\n",
      "Processed telcodata_33341.csv and 113 egoid(s).\n",
      "Processed telcodata_58654.csv and 114 egoid(s).\n",
      "Processed telcodata_73143.csv and 115 egoid(s).\n",
      "Processed telcodata_34525.csv and 116 egoid(s).\n",
      "Processed telcodata_95490.csv and 117 egoid(s).\n",
      "Processed telcodata_91551.csv and 118 egoid(s).\n",
      "Processed telcodata_79607.csv and 119 egoid(s).\n",
      "Processed telcodata_92552.csv and 120 egoid(s).\n",
      "Processed telcodata_92716.csv and 121 egoid(s).\n",
      "Processed telcodata_18707.csv and 122 egoid(s).\n",
      "Processed telcodata_14847.csv and 123 egoid(s).\n",
      "Processed telcodata_58633.csv and 124 egoid(s).\n",
      "Processed telcodata_84011.csv and 125 egoid(s).\n",
      "Processed telcodata_96469.csv and 126 egoid(s).\n",
      "Processed telcodata_78657.csv and 127 egoid(s).\n",
      "Processed telcodata_77838.csv and 128 egoid(s).\n",
      "Processed telcodata_29354.csv and 129 egoid(s).\n",
      "Processed telcodata_43809.csv and 130 egoid(s).\n",
      "Processed telcodata_25172.csv and 131 egoid(s).\n",
      "Processed telcodata_32919.csv and 132 egoid(s).\n",
      "Processed telcodata_38293.csv and 133 egoid(s).\n",
      "Processed telcodata_26320.csv and 134 egoid(s).\n",
      "Processed telcodata_76785.csv and 135 egoid(s).\n",
      "Processed telcodata_68318.csv and 136 egoid(s).\n",
      "Processed telcodata_14690.csv and 137 egoid(s).\n",
      "Processed telcodata_74845.csv and 138 egoid(s).\n",
      "Processed telcodata_67106.csv and 139 egoid(s).\n",
      "Processed telcodata_33785.csv and 140 egoid(s).\n",
      "Processed telcodata_62246.csv and 141 egoid(s).\n",
      "Processed telcodata_47142.csv and 142 egoid(s).\n",
      "Processed telcodata_26272.csv and 143 egoid(s).\n",
      "Processed telcodata_35180.csv and 144 egoid(s).\n",
      "Processed telcodata_63138.csv and 145 egoid(s).\n",
      "Processed telcodata_10469.csv and 146 egoid(s).\n",
      "Processed telcodata_28327.csv and 147 egoid(s).\n",
      "Processed telcodata_93246.csv and 148 egoid(s).\n",
      "Processed telcodata_85453.csv and 149 egoid(s).\n",
      "Processed telcodata_79352.csv and 150 egoid(s).\n",
      "Processed telcodata_29296.csv and 151 egoid(s).\n",
      "Processed telcodata_29885.csv and 152 egoid(s).\n",
      "Processed telcodata_87664.csv and 153 egoid(s).\n",
      "Processed telcodata_56527.csv and 154 egoid(s).\n",
      "Processed telcodata_27407.csv and 155 egoid(s).\n",
      "Processed telcodata_95559.csv and 156 egoid(s).\n",
      "Processed telcodata_26858.csv and 157 egoid(s).\n",
      "Processed telcodata_94455.csv and 158 egoid(s).\n",
      "Processed telcodata_21909.csv and 159 egoid(s).\n",
      "Processed telcodata_38824.csv and 160 egoid(s).\n",
      "Processed telcodata_39659.csv and 161 egoid(s).\n",
      "Processed telcodata_80429.csv and 162 egoid(s).\n",
      "Processed telcodata_11454.csv and 163 egoid(s).\n",
      "Processed telcodata_12738.csv and 164 egoid(s).\n",
      "Processed telcodata_49010.csv and 165 egoid(s).\n",
      "Processed telcodata_17020.csv and 166 egoid(s).\n",
      "Processed telcodata_93787.csv and 167 egoid(s).\n",
      "Processed telcodata_60963.csv and 168 egoid(s).\n",
      "Processed telcodata_83612.csv and 169 egoid(s).\n",
      "Processed telcodata_58793.csv and 170 egoid(s).\n",
      "Processed telcodata_38683.csv and 171 egoid(s).\n",
      "Processed telcodata_46418.csv and 172 egoid(s).\n",
      "Processed telcodata_11002.csv and 173 egoid(s).\n",
      "Processed telcodata_93699.csv and 174 egoid(s).\n",
      "Processed telcodata_23518.csv and 175 egoid(s).\n",
      "Processed telcodata_14511.csv and 176 egoid(s).\n",
      "Processed telcodata_28254.csv and 177 egoid(s).\n",
      "Processed telcodata_59592.csv and 178 egoid(s).\n",
      "Processed telcodata_91176.csv and 179 egoid(s).\n",
      "Processed telcodata_93462.csv and 180 egoid(s).\n",
      "Processed telcodata_47024.csv and 181 egoid(s).\n",
      "Processed telcodata_50666.csv and 182 egoid(s).\n",
      "Processed telcodata_43794.csv and 183 egoid(s).\n",
      "Processed telcodata_66629.csv and 184 egoid(s).\n",
      "Processed telcodata_10547.csv and 185 egoid(s).\n",
      "Processed telcodata_54837.csv and 186 egoid(s).\n",
      "Processed telcodata_60230.csv and 187 egoid(s).\n",
      "Processed telcodata_99978.csv and 188 egoid(s).\n",
      "Processed telcodata_26581.csv and 189 egoid(s).\n",
      "Processed telcodata_20507.csv and 190 egoid(s).\n",
      "Processed telcodata_48013.csv and 191 egoid(s).\n",
      "Processed telcodata_77036.csv and 192 egoid(s).\n",
      "Processed telcodata_75578.csv and 193 egoid(s).\n",
      "Processed telcodata_46266.csv and 194 egoid(s).\n",
      "Processed telcodata_22688.csv and 195 egoid(s).\n",
      "Processed telcodata_92028.csv and 196 egoid(s).\n",
      "Processed telcodata_32037.csv and 197 egoid(s).\n",
      "Processed telcodata_89165.csv and 198 egoid(s).\n",
      "Processed telcodata_42646.csv and 199 egoid(s).\n",
      "Processed telcodata_84502.csv and 200 egoid(s).\n",
      "Processed telcodata_57842.csv and 201 egoid(s).\n",
      "Processed telcodata_51495.csv and 202 egoid(s).\n",
      "Processed telcodata_20650.csv and 203 egoid(s).\n",
      "Processed telcodata_73577.csv and 204 egoid(s).\n",
      "Processed telcodata_39738.csv and 205 egoid(s).\n",
      "Processed telcodata_25197.csv and 206 egoid(s).\n",
      "Processed telcodata_66061.csv and 207 egoid(s).\n",
      "Processed telcodata_19591.csv and 208 egoid(s).\n",
      "Processed telcodata_47498.csv and 209 egoid(s).\n",
      "Processed telcodata_50976.csv and 210 egoid(s).\n",
      "Processed telcodata_46151.csv and 211 egoid(s).\n",
      "Processed telcodata_94579.csv and 212 egoid(s).\n",
      "Processed telcodata_68050.csv and 213 egoid(s).\n",
      "Processed telcodata_91313.csv and 214 egoid(s).\n",
      "Processed telcodata_39129.csv and 215 egoid(s).\n",
      "Processed telcodata_88582.csv and 216 egoid(s).\n",
      "Processed telcodata_92566.csv and 217 egoid(s).\n",
      "Processed telcodata_60216.csv and 218 egoid(s).\n",
      "Processed telcodata_39564.csv and 219 egoid(s).\n",
      "Processed telcodata_83542.csv and 220 egoid(s).\n",
      "Processed telcodata_64075.csv and 221 egoid(s).\n",
      "Processed telcodata_89161.csv and 222 egoid(s).\n",
      "Processed telcodata_29134.csv and 223 egoid(s).\n",
      "Processed telcodata_43603.csv and 224 egoid(s).\n",
      "Processed telcodata_61028.csv and 225 egoid(s).\n",
      "Processed telcodata_48946.csv and 226 egoid(s).\n",
      "Processed telcodata_21932.csv and 227 egoid(s).\n",
      "Processed telcodata_89607.csv and 228 egoid(s).\n",
      "Processed telcodata_35872.csv and 229 egoid(s).\n",
      "Processed telcodata_86265.csv and 230 egoid(s).\n",
      "Processed telcodata_72570.csv and 231 egoid(s).\n",
      "Processed telcodata_93002.csv and 232 egoid(s).\n",
      "Processed telcodata_66676.csv and 233 egoid(s).\n",
      "Processed telcodata_66047.csv and 234 egoid(s).\n",
      "Processed telcodata_83748.csv and 235 egoid(s).\n",
      "Processed telcodata_61659.csv and 236 egoid(s).\n",
      "Processed telcodata_38313.csv and 237 egoid(s).\n",
      "Processed telcodata_98117.csv and 238 egoid(s).\n",
      "Processed telcodata_15134.csv and 239 egoid(s).\n",
      "Processed telcodata_50072.csv and 240 egoid(s).\n",
      "Processed telcodata_91932.csv and 241 egoid(s).\n",
      "Processed telcodata_77941.csv and 242 egoid(s).\n",
      "Processed telcodata_92953.csv and 243 egoid(s).\n",
      "Processed telcodata_97050.csv and 244 egoid(s).\n",
      "Processed telcodata_28824.csv and 245 egoid(s).\n",
      "Processed telcodata_81647.csv and 246 egoid(s).\n",
      "Processed telcodata_77789.csv and 247 egoid(s).\n",
      "Processed telcodata_98760.csv and 248 egoid(s).\n",
      "Processed telcodata_46558.csv and 249 egoid(s).\n",
      "Processed telcodata_22408.csv and 250 egoid(s).\n",
      "Processed telcodata_91429.csv and 251 egoid(s).\n",
      "Processed telcodata_32976.csv and 252 egoid(s).\n",
      "Processed telcodata_95585.csv and 253 egoid(s).\n",
      "Processed telcodata_71193.csv and 254 egoid(s).\n",
      "Processed telcodata_24029.csv and 255 egoid(s).\n",
      "Processed telcodata_22455.csv and 256 egoid(s).\n",
      "Processed telcodata_84768.csv and 257 egoid(s).\n",
      "Processed telcodata_60367.csv and 258 egoid(s).\n",
      "Processed telcodata_19030.csv and 259 egoid(s).\n",
      "Processed telcodata_22066.csv and 260 egoid(s).\n",
      "Processed telcodata_74492.csv and 261 egoid(s).\n",
      "Processed telcodata_87192.csv and 262 egoid(s).\n",
      "Processed telcodata_41167.csv and 263 egoid(s).\n",
      "Processed telcodata_97833.csv and 264 egoid(s).\n",
      "Processed telcodata_42773.csv and 265 egoid(s).\n",
      "Processed telcodata_87032.csv and 266 egoid(s).\n",
      "Processed telcodata_51723.csv and 267 egoid(s).\n",
      "Processed telcodata_67334.csv and 268 egoid(s).\n",
      "Processed telcodata_75341.csv and 269 egoid(s).\n",
      "Processed telcodata_22460.csv and 270 egoid(s).\n",
      "Processed telcodata_21899.csv and 271 egoid(s).\n",
      "Processed telcodata_60008.csv and 272 egoid(s).\n",
      "Processed telcodata_77532.csv and 273 egoid(s).\n",
      "Processed telcodata_81420.csv and 274 egoid(s).\n",
      "Processed telcodata_22587.csv and 275 egoid(s).\n",
      "Processed telcodata_49800.csv and 276 egoid(s).\n",
      "Processed telcodata_49014.csv and 277 egoid(s).\n",
      "Processed telcodata_44070.csv and 278 egoid(s).\n",
      "Processed telcodata_89142.csv and 279 egoid(s).\n",
      "Processed telcodata_76663.csv and 280 egoid(s).\n",
      "Processed telcodata_82728.csv and 281 egoid(s).\n",
      "Processed telcodata_80980.csv and 282 egoid(s).\n",
      "Processed telcodata_74285.csv and 283 egoid(s).\n",
      "Processed telcodata_14737.csv and 284 egoid(s).\n",
      "Processed telcodata_94215.csv and 285 egoid(s).\n",
      "Processed telcodata_25125.csv and 286 egoid(s).\n",
      "Processed telcodata_29792.csv and 287 egoid(s).\n",
      "Processed telcodata_69807.csv and 288 egoid(s).\n",
      "Processed telcodata_27306.csv and 289 egoid(s).\n",
      "Processed telcodata_49539.csv and 290 egoid(s).\n",
      "Processed telcodata_30972.csv and 291 egoid(s).\n",
      "Processed telcodata_11128.csv and 292 egoid(s).\n",
      "Processed telcodata_24016.csv and 293 egoid(s).\n",
      "Processed telcodata_21793.csv and 294 egoid(s).\n",
      "Processed telcodata_47886.csv and 295 egoid(s).\n",
      "Processed telcodata_12029.csv and 296 egoid(s).\n",
      "Processed telcodata_17569.csv and 297 egoid(s).\n",
      "Processed telcodata_42137.csv and 298 egoid(s).\n",
      "Processed telcodata_39787.csv and 299 egoid(s).\n",
      "Processed telcodata_83005.csv and 300 egoid(s).\n",
      "Processed telcodata_94641.csv and 301 egoid(s).\n",
      "Processed telcodata_88008.csv and 302 egoid(s).\n",
      "Processed telcodata_21887.csv and 303 egoid(s).\n",
      "Processed telcodata_36384.csv and 304 egoid(s).\n",
      "Processed telcodata_73452.csv and 305 egoid(s).\n",
      "Processed telcodata_54030.csv and 306 egoid(s).\n",
      "Processed telcodata_70745.csv and 307 egoid(s).\n",
      "Processed telcodata_36038.csv and 308 egoid(s).\n",
      "Processed telcodata_33953.csv and 309 egoid(s).\n",
      "Processed telcodata_22119.csv and 310 egoid(s).\n",
      "Processed telcodata_33388.csv and 311 egoid(s).\n",
      "Processed telcodata_20335.csv and 312 egoid(s).\n",
      "Processed telcodata_93504.csv and 313 egoid(s).\n",
      "Processed telcodata_44310.csv and 314 egoid(s).\n",
      "Processed telcodata_56543.csv and 315 egoid(s).\n",
      "Processed telcodata_35824.csv and 316 egoid(s).\n"
     ]
    }
   ],
   "source": [
    "# Creating different csv files for each egoid and egoid_alterid pair\n",
    "import pandas as pd\n",
    "import warnings\n",
    "\n",
    "# Filter out the SettingWithCopyWarning\n",
    "warnings.filterwarnings(\"ignore\")\n",
    "i=1\n",
    "str = \"egoid; alterid; eventtime; eventtype; duration; outgoing\"\n",
    "# Iterate over each unique egoid\n",
    "for egoid in (32668,24883,55533,67177,88882,66800,32404,63122,49497,22093,38815,43114,96828,56058,31033,92340,11148,74632,92412,67608,78407,80484,90646,22143,36117,14301,52123,28247,86440,73158,74413,30814,66815,16819,64572,77872,17470,55881,24079,22913,93856,72885,22540,38052,62617,59900,73897,54435,64058,43710,36963,39146,14250,28724,65072,90079,77187,48154,75149,88967,29647,58682,25369,87328,56480,11402,59355,98766,57443,35011,82819,19735,24833,36385,63347,42513,39414,88185,93766,74899,18111,59863,44927,70566,25548,44873,48676,83470,79167,36875,79897,84390,47584,71894,70962,31538,79731,24898,87330,92895,40864,69217,23487,44344,13486,35925,37404,64090,46365,93858,53518,61084,33341,58654,73143,34525,95490,91551,79607,92552,92716,18707,14847,58633,84011,96469,78657,77838,29354,43809,25172,32919,38293,26320,76785,68318,14690,74845,67106,33785,62246,47142,26272,35180,63138,10469,28327,93246,85453,79352,29296,29885,87664,56527,27407,95559,26858,94455,21909,38824,39659,80429,11454,12738,49010,17020,93787,60963,83612,58793,38683,46418,11002,93699,23518,14511,28254,59592,91176,93462,47024,50666,43794,66629,10547,54837,60230,99978,26581,20507,48013,77036,75578,46266,22688,92028,32037,89165,42646,84502,57842,51495,20650,73577,39738,25197,66061,19591,47498,50976,46151,94579,68050,91313,39129,88582,92566,60216,39564,83542,64075,89161,29134,43603,61028,48946,21932,89607,35872,86265,72570,93002,66676,66047,83748,61659,38313,98117,15134,50072,91932,77941,92953,97050,28824,81647,77789,98760,46558,22408,91429,32976,95585,71193,24029,22455,84768,60367,19030,22066,74492,87192,41167,97833,42773,87032,51723,67334,75341,22460,21899,60008,77532,81420,22587,49800,49014,44070,89142,76663,82728,80980,74285,14737,94215,25125,29792,69807,27306,49539,30972,11128,24016,21793,47886,12029,17569,42137,39787,83005,94641,88008,21887,36384,73452,54030,70745,36038,33953,22119,33388,20335,93504,44310,56543,35824\n",
    "              ):\n",
    "    # Filter data for the current egoid\n",
    "    filtered_data = df[(df['egoid'] == egoid) | (df['alterid'] == egoid)]\n",
    "\n",
    "    # Create a new column 'duration' for Call events and set to 0 for other event types\n",
    "    filtered_data['duration'] = filtered_data.apply(lambda row: row['duration'] if row['eventtype'] == 'Call' else 0, axis=1)\n",
    "\n",
    "    # Replace NaN values and apply transformations\n",
    "    # filtered_data['length'] = filtered_data.apply(lambda row: 0 if pd.isna(row['length']) else row['length'], axis=1)\n",
    "    filtered_data['eventtype'] = filtered_data['eventtype'].apply(lambda x: 1 if x == 'Call' else 0)\n",
    "    filtered_data['outgoing'] = filtered_data['outgoing'].apply(lambda x: 1 if x == 'Yes' else 0)\n",
    "\n",
    "    # Concatenate values into a single column\n",
    "    filtered_data[str] = filtered_data.apply(\n",
    "        lambda row: f\"{row['egoid']};{row['alterid']};{row['timestamp']};{row['eventtype']};{row['duration']};{row['outgoing']}\",\n",
    "        axis=1\n",
    "    )\n",
    "    \n",
    "    # Create a CSV file for the current egoid with headers\n",
    "    csv_filename = f'telcodata_{egoid}.csv'\n",
    "    filtered_data[str].to_csv(csv_filename, index=False, header=True, mode='w')\n",
    "    print(f'Processed telcodata_{egoid}.csv and {i} egoid(s).')\n",
    "    i = i+1\n"
   ],
   "metadata": {
    "collapsed": false,
    "ExecuteTime": {
     "end_time": "2023-11-20T16:18:11.624125100Z",
     "start_time": "2023-11-20T16:03:44.982617500Z"
    }
   }
  },
  {
   "cell_type": "code",
   "execution_count": null,
   "outputs": [],
   "source": [
    "\n",
    "# Initialize an empty DataFrame to store the results\n",
    "result_df = pd.DataFrame(columns=['SenderID', 'ReceiverID', 'EventTime', 'EventType', 'EventLength'])\n",
    "i = 1\n",
    "# Iterate over each unique egoid\n",
    "for egoid in df['egoid'].unique():\n",
    "    # Filter data for the current egoid\n",
    "    filtered_data = df[(df['egoid'] == egoid) | (df['alterid'] == egoid)]\n",
    "\n",
    "    # Determine sender and receiver based on 'outgoing' column\n",
    "    filtered_data['SenderID'] = filtered_data.apply(lambda row: egoid if row['outgoing'] == 'Yes' else row['alterid'], axis=1)\n",
    "    filtered_data['ReceiverID'] = filtered_data.apply(lambda row: row['alterid'] if row['outgoing'] == 'Yes' else egoid, axis=1)\n",
    "    filtered_data['length'] = filtered_data.apply(lambda row: row['duration'] if row['eventtype'] == 'Call' else row['length'], axis= 1)\n",
    "    filtered_data['eventtype'] = filtered_data.apply(lambda row: 1 if row['eventtype'] == 'Call' else 0, axis=1)\n",
    "    \n",
    "    # Select only the required columns\n",
    "    selected_columns = ['SenderID', 'ReceiverID', 'timestamp', 'eventtype', 'length']\n",
    "    filtered_data = filtered_data[selected_columns]\n",
    "\n",
    "    # Rename columns to match the desired output\n",
    "    filtered_data.columns = ['SenderID', 'ReceiverID', 'EventTime', 'EventType', 'EventLength']\n",
    "    csv_filename = f'telcodata_{egoid}.csv'\n",
    "    filtered_data.to_csv(csv_filename, sep=';', index=False)\n",
    "    print(f'Processed telcodata_{egoid}.csv and {i} egoid(s).')\n",
    "    i = i+1\n",
    "\n"
   ],
   "metadata": {
    "collapsed": false
   }
  },
  {
   "cell_type": "code",
   "execution_count": 5,
   "outputs": [
    {
     "data": {
      "text/plain": "            timestamp  egoid  alterid  time_difference  length  bytes outgoing\n0 2019-05-19 23:57:13  33239    64978             1312    12.0      0       No\n1 2019-05-19 23:53:18  66676  2194015              116    65.0      0       No\n2 2019-05-19 23:52:38  66676   484339             1295    51.0      0       No\n3 2019-05-19 23:51:56  66676   484339             1295    44.0      0      Yes\n4 2019-05-19 23:51:47  66676   484339             1295    12.0      0      Yes\n5 2019-05-19 23:51:30  66676  2194015              116   105.0      0      Yes\n6 2019-05-19 23:50:43  14847   743602             1484     0.0      0      Yes\n7 2019-05-19 23:49:36  66676   513037             1370    64.0      0       No\n8 2019-05-19 23:49:07  66676  2194015              116    42.0      0       No\n9 2019-05-19 23:44:08  93002   250498              992     9.0      0       No",
      "text/html": "<div>\n<style scoped>\n    .dataframe tbody tr th:only-of-type {\n        vertical-align: middle;\n    }\n\n    .dataframe tbody tr th {\n        vertical-align: top;\n    }\n\n    .dataframe thead th {\n        text-align: right;\n    }\n</style>\n<table border=\"1\" class=\"dataframe\">\n  <thead>\n    <tr style=\"text-align: right;\">\n      <th></th>\n      <th>timestamp</th>\n      <th>egoid</th>\n      <th>alterid</th>\n      <th>time_difference</th>\n      <th>length</th>\n      <th>bytes</th>\n      <th>outgoing</th>\n    </tr>\n  </thead>\n  <tbody>\n    <tr>\n      <th>0</th>\n      <td>2019-05-19 23:57:13</td>\n      <td>33239</td>\n      <td>64978</td>\n      <td>1312</td>\n      <td>12.0</td>\n      <td>0</td>\n      <td>No</td>\n    </tr>\n    <tr>\n      <th>1</th>\n      <td>2019-05-19 23:53:18</td>\n      <td>66676</td>\n      <td>2194015</td>\n      <td>116</td>\n      <td>65.0</td>\n      <td>0</td>\n      <td>No</td>\n    </tr>\n    <tr>\n      <th>2</th>\n      <td>2019-05-19 23:52:38</td>\n      <td>66676</td>\n      <td>484339</td>\n      <td>1295</td>\n      <td>51.0</td>\n      <td>0</td>\n      <td>No</td>\n    </tr>\n    <tr>\n      <th>3</th>\n      <td>2019-05-19 23:51:56</td>\n      <td>66676</td>\n      <td>484339</td>\n      <td>1295</td>\n      <td>44.0</td>\n      <td>0</td>\n      <td>Yes</td>\n    </tr>\n    <tr>\n      <th>4</th>\n      <td>2019-05-19 23:51:47</td>\n      <td>66676</td>\n      <td>484339</td>\n      <td>1295</td>\n      <td>12.0</td>\n      <td>0</td>\n      <td>Yes</td>\n    </tr>\n    <tr>\n      <th>5</th>\n      <td>2019-05-19 23:51:30</td>\n      <td>66676</td>\n      <td>2194015</td>\n      <td>116</td>\n      <td>105.0</td>\n      <td>0</td>\n      <td>Yes</td>\n    </tr>\n    <tr>\n      <th>6</th>\n      <td>2019-05-19 23:50:43</td>\n      <td>14847</td>\n      <td>743602</td>\n      <td>1484</td>\n      <td>0.0</td>\n      <td>0</td>\n      <td>Yes</td>\n    </tr>\n    <tr>\n      <th>7</th>\n      <td>2019-05-19 23:49:36</td>\n      <td>66676</td>\n      <td>513037</td>\n      <td>1370</td>\n      <td>64.0</td>\n      <td>0</td>\n      <td>No</td>\n    </tr>\n    <tr>\n      <th>8</th>\n      <td>2019-05-19 23:49:07</td>\n      <td>66676</td>\n      <td>2194015</td>\n      <td>116</td>\n      <td>42.0</td>\n      <td>0</td>\n      <td>No</td>\n    </tr>\n    <tr>\n      <th>9</th>\n      <td>2019-05-19 23:44:08</td>\n      <td>93002</td>\n      <td>250498</td>\n      <td>992</td>\n      <td>9.0</td>\n      <td>0</td>\n      <td>No</td>\n    </tr>\n  </tbody>\n</table>\n</div>"
     },
     "execution_count": 5,
     "metadata": {},
     "output_type": "execute_result"
    }
   ],
   "source": [
    "import pandas as pd\n",
    "\n",
    "# Load your data from the SQL table into a pandas DataFrame\n",
    "# Replace 'your_table_name' with the actual name of your table\n",
    "df = pd.read_sql('SELECT  top 10 * FROM SMSEvents order by timestamp desc', engine)\n",
    "df"
   ],
   "metadata": {
    "collapsed": false,
    "ExecuteTime": {
     "end_time": "2023-11-19T17:47:13.122203900Z",
     "start_time": "2023-11-19T17:47:05.825649800Z"
    }
   }
  },
  {
   "cell_type": "code",
   "execution_count": null,
   "outputs": [],
   "source": [
    "import os\n",
    "# Initialize an empty DataFrame to store the results\n",
    "result_df = pd.DataFrame(columns=['SenderID', 'ReceiverID', 'EventTime', 'EventType', 'EventLength'])\n",
    "sms_reader = pd.read_sql(f'SELECT * FROM SMSEvents', engine, chunksize=1000000)\n",
    "\n",
    "for chunk in sms_reader:\n",
    "    # Iterate over each unique egoid\n",
    "    for egoid in df['egoid'].unique():\n",
    "        # Filter data for the current egoid\n",
    "        filtered_data = df[(df['egoid'] == egoid) | (df['alterid'] == egoid)]\n",
    "    \n",
    "        # Determine sender and receiver based on 'outgoing' column\n",
    "        filtered_data['SenderID'] = filtered_data.apply(lambda row: egoid if row['outgoing'] == 'Yes' else row['alterid'], axis=1)\n",
    "        filtered_data['ReceiverID'] = filtered_data.apply(lambda row: row['alterid'] if row['outgoing'] == 'Yes' else egoid, axis=1)\n",
    "    \n",
    "        filtered_data['eventtype'] = '0'\n",
    "        filtered_data['length'] = df.apply(lambda row: row['length'] if row.get('length', 0) > 0 else row.get('bytes', 0), axis=1)\n",
    "\n",
    "\n",
    "        # Select only the required columns\n",
    "        selected_columns = ['SenderID', 'ReceiverID', 'timestamp', 'eventtype', 'length']\n",
    "        filtered_data = filtered_data[selected_columns]\n",
    "    \n",
    "        # Rename columns to match the desired output\n",
    "        filtered_data.columns = ['SenderID', 'ReceiverID', 'EventTime', 'EventType', 'EventLength']\n",
    "        csv_filename = f'telcodata_{egoid}.csv'\n",
    "        if os.path.exists(csv_filename):\n",
    "            # Load telcodata file and append SMS events\n",
    "            df_telcodata = pd.read_csv(csv_filename, sep=';')\n",
    "            df_telcodata = pd.concat([df_telcodata, filtered_data])\n",
    "        else:\n",
    "            # Create a new DataFrame for telcodata with SMS events\n",
    "            df_telcodata = filtered_data\n",
    "\n",
    "        # Save the updated telcodata file\n",
    "        df_telcodata.to_csv(csv_filename, sep=';', index=False)\n",
    "\n"
   ],
   "metadata": {
    "collapsed": false
   }
  },
  {
   "cell_type": "code",
   "execution_count": null,
   "outputs": [],
   "source": [
    "\n"
   ],
   "metadata": {
    "collapsed": false
   }
  }
 ],
 "metadata": {
  "kernelspec": {
   "display_name": "Python 3",
   "language": "python",
   "name": "python3"
  },
  "language_info": {
   "codemirror_mode": {
    "name": "ipython",
    "version": 3
   },
   "file_extension": ".py",
   "mimetype": "text/x-python",
   "name": "python",
   "nbconvert_exporter": "python",
   "pygments_lexer": "ipython3",
   "version": "3.11.6"
  }
 },
 "nbformat": 4,
 "nbformat_minor": 2
}
